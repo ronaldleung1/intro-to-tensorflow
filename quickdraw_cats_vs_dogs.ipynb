{
  "nbformat": 4,
  "nbformat_minor": 0,
  "metadata": {
    "colab": {
      "name": "quickdraw_cats_vs_dogs.ipynb",
      "provenance": [],
      "collapsed_sections": [],
      "include_colab_link": true
    },
    "kernelspec": {
      "display_name": "Python 3",
      "name": "python3"
    }
  },
  "cells": [
    {
      "cell_type": "markdown",
      "metadata": {
        "id": "view-in-github",
        "colab_type": "text"
      },
      "source": [
        "<a href=\"https://colab.research.google.com/github/googol88/intro-to-tensorflow/blob/main/quickdraw_cats_vs_dogs.ipynb\" target=\"_parent\"><img src=\"https://colab.research.google.com/assets/colab-badge.svg\" alt=\"Open In Colab\"/></a>"
      ]
    },
    {
      "cell_type": "markdown",
      "metadata": {
        "id": "punL79CN7Ox6"
      },
      "source": [
        "##### Copyright 2018 The TensorFlow Authors."
      ]
    },
    {
      "cell_type": "code",
      "metadata": {
        "cellView": "form",
        "id": "_ckMIh7O7s6D"
      },
      "source": [
        "#@title Licensed under the Apache License, Version 2.0 (the \"License\");\n",
        "# you may not use this file except in compliance with the License.\n",
        "# You may obtain a copy of the License at\n",
        "#\n",
        "# https://www.apache.org/licenses/LICENSE-2.0\n",
        "#\n",
        "# Unless required by applicable law or agreed to in writing, software\n",
        "# distributed under the License is distributed on an \"AS IS\" BASIS,\n",
        "# WITHOUT WARRANTIES OR CONDITIONS OF ANY KIND, either express or implied.\n",
        "# See the License for the specific language governing permissions and\n",
        "# limitations under the License."
      ],
      "execution_count": null,
      "outputs": []
    },
    {
      "cell_type": "code",
      "metadata": {
        "cellView": "form",
        "id": "vasWnqRgy1H4"
      },
      "source": [
        "#@title MIT License\n",
        "#\n",
        "# Copyright (c) 2017 François Chollet\n",
        "#\n",
        "# Permission is hereby granted, free of charge, to any person obtaining a\n",
        "# copy of this software and associated documentation files (the \"Software\"),\n",
        "# to deal in the Software without restriction, including without limitation\n",
        "# the rights to use, copy, modify, merge, publish, distribute, sublicense,\n",
        "# and/or sell copies of the Software, and to permit persons to whom the\n",
        "# Software is furnished to do so, subject to the following conditions:\n",
        "#\n",
        "# The above copyright notice and this permission notice shall be included in\n",
        "# all copies or substantial portions of the Software.\n",
        "#\n",
        "# THE SOFTWARE IS PROVIDED \"AS IS\", WITHOUT WARRANTY OF ANY KIND, EXPRESS OR\n",
        "# IMPLIED, INCLUDING BUT NOT LIMITED TO THE WARRANTIES OF MERCHANTABILITY,\n",
        "# FITNESS FOR A PARTICULAR PURPOSE AND NONINFRINGEMENT. IN NO EVENT SHALL\n",
        "# THE AUTHORS OR COPYRIGHT HOLDERS BE LIABLE FOR ANY CLAIM, DAMAGES OR OTHER\n",
        "# LIABILITY, WHETHER IN AN ACTION OF CONTRACT, TORT OR OTHERWISE, ARISING\n",
        "# FROM, OUT OF OR IN CONNECTION WITH THE SOFTWARE OR THE USE OR OTHER\n",
        "# DEALINGS IN THE SOFTWARE."
      ],
      "execution_count": null,
      "outputs": []
    },
    {
      "cell_type": "markdown",
      "metadata": {
        "id": "jYysdyb-CaWM"
      },
      "source": [
        "# Classifying Images of Clothing"
      ]
    },
    {
      "cell_type": "markdown",
      "metadata": {
        "id": "S5Uhzt6vVIB2"
      },
      "source": [
        "<table class=\"tfo-notebook-buttons\" align=\"left\">\n",
        "  <td>\n",
        "    <a target=\"_blank\" href=\"https://colab.research.google.com/github/tensorflow/examples/blob/master/courses/udacity_intro_to_tensorflow_for_deep_learning/l03c01_classifying_images_of_clothing.ipynb\"><img src=\"https://www.tensorflow.org/images/colab_logo_32px.png\" />Run in Google Colab</a>\n",
        "  </td>\n",
        "  <td>\n",
        "    <a target=\"_blank\" href=\"https://github.com/tensorflow/examples/blob/master/courses/udacity_intro_to_tensorflow_for_deep_learning/l03c01_classifying_images_of_clothing.ipynb\"><img src=\"https://www.tensorflow.org/images/GitHub-Mark-32px.png\" />View source on GitHub</a>\n",
        "  </td>\n",
        "</table>"
      ]
    },
    {
      "cell_type": "markdown",
      "metadata": {
        "id": "FbVhjPpzn6BM"
      },
      "source": [
        "In this tutorial, we'll build and train a neural network to classify images of clothing, like sneakers and shirts.\n",
        "\n",
        "It's okay if you don't understand everything. This is a fast-paced overview of a complete TensorFlow program, with explanations along the way. The goal is to get the general sense of a TensorFlow project, not to catch every detail.\n",
        "\n",
        "This guide uses [tf.keras](https://www.tensorflow.org/guide/keras), a high-level API to build and train models in TensorFlow."
      ]
    },
    {
      "cell_type": "markdown",
      "metadata": {
        "id": "H0tMfX2vR0uD"
      },
      "source": [
        "## Install and import dependencies\n",
        "\n",
        "We'll need [TensorFlow Datasets](https://www.tensorflow.org/datasets/), an API that simplifies downloading and accessing datasets, and provides several sample datasets to work with. We're also using a few helper libraries."
      ]
    },
    {
      "cell_type": "code",
      "metadata": {
        "colab": {
          "base_uri": "https://localhost:8080/"
        },
        "id": "P7mUJVqcINSM",
        "outputId": "13e49211-1391-4c80-9baa-07219d8d654b"
      },
      "source": [
        "# !pip install -U tensorflow_datasets\n",
        "!pip install quickdraw"
      ],
      "execution_count": 1,
      "outputs": [
        {
          "output_type": "stream",
          "name": "stdout",
          "text": [
            "Collecting quickdraw\n",
            "  Downloading quickdraw-0.2.0-py3-none-any.whl (10 kB)\n",
            "Requirement already satisfied: pillow in /usr/local/lib/python3.7/dist-packages (from quickdraw) (7.1.2)\n",
            "Requirement already satisfied: requests in /usr/local/lib/python3.7/dist-packages (from quickdraw) (2.23.0)\n",
            "Requirement already satisfied: chardet<4,>=3.0.2 in /usr/local/lib/python3.7/dist-packages (from requests->quickdraw) (3.0.4)\n",
            "Requirement already satisfied: certifi>=2017.4.17 in /usr/local/lib/python3.7/dist-packages (from requests->quickdraw) (2021.10.8)\n",
            "Requirement already satisfied: urllib3!=1.25.0,!=1.25.1,<1.26,>=1.21.1 in /usr/local/lib/python3.7/dist-packages (from requests->quickdraw) (1.24.3)\n",
            "Requirement already satisfied: idna<3,>=2.5 in /usr/local/lib/python3.7/dist-packages (from requests->quickdraw) (2.10)\n",
            "Installing collected packages: quickdraw\n",
            "Successfully installed quickdraw-0.2.0\n"
          ]
        }
      ]
    },
    {
      "cell_type": "code",
      "metadata": {
        "id": "_FxXYSCXGQqQ"
      },
      "source": [
        "import tensorflow as tf"
      ],
      "execution_count": 2,
      "outputs": []
    },
    {
      "cell_type": "code",
      "metadata": {
        "id": "1UbK0Uq7GWaO"
      },
      "source": [
        "\"\"\"\n",
        "# Import TensorFlow Datasets\n",
        "import tensorflow_datasets as tfds\n",
        "tfds.disable_progress_bar()\n",
        "\"\"\"\n",
        "\n",
        "# Helper libraries\n",
        "import math\n",
        "import numpy as np\n",
        "import matplotlib.pyplot as plt\n",
        "\n",
        "from sklearn.model_selection import train_test_split\n",
        "from quickdraw import QuickDrawData\n",
        "from PIL import Image"
      ],
      "execution_count": 3,
      "outputs": []
    },
    {
      "cell_type": "code",
      "metadata": {
        "id": "590z76KRGtKk"
      },
      "source": [
        "import logging\n",
        "logger = tf.get_logger()\n",
        "logger.setLevel(logging.ERROR)"
      ],
      "execution_count": 4,
      "outputs": []
    },
    {
      "cell_type": "markdown",
      "metadata": {
        "id": "yR0EdgrLCaWR"
      },
      "source": [
        "## Import the Fashion MNIST dataset"
      ]
    },
    {
      "cell_type": "markdown",
      "metadata": {
        "id": "DLdCchMdCaWQ"
      },
      "source": [
        "This guide uses the [Fashion MNIST](https://github.com/zalandoresearch/fashion-mnist) dataset, which contains 70,000 grayscale images in 10 categories. The images show individual articles of clothing at low resolution (28 $\\times$ 28 pixels), as seen here:\n",
        "\n",
        "<table>\n",
        "  <tr><td>\n",
        "    <img src=\"https://tensorflow.org/images/fashion-mnist-sprite.png\"\n",
        "         alt=\"Fashion MNIST sprite\" width=\"600\">\n",
        "  </td></tr>\n",
        "  <tr><td align=\"center\">\n",
        "    <b>Figure 1.</b> <a href=\"https://github.com/zalandoresearch/fashion-mnist\">Fashion-MNIST samples</a> (by Zalando, MIT License).<br/>&nbsp;\n",
        "  </td></tr>\n",
        "</table>\n",
        "\n",
        "Fashion MNIST is intended as a drop-in replacement for the classic [MNIST](http://yann.lecun.com/exdb/mnist/) dataset—often used as the \"Hello, World\" of machine learning programs for computer vision. The MNIST dataset contains images of handwritten digits (0, 1, 2, etc) in an identical format to the articles of clothing we'll use here.\n",
        "\n",
        "This guide uses Fashion MNIST for variety, and because it's a slightly more challenging problem than regular MNIST. Both datasets are relatively small and are used to verify that an algorithm works as expected. They're good starting points to test and debug code.\n",
        "\n",
        "We will use 60,000 images to train the network and 10,000 images to evaluate how accurately the network learned to classify images. You can access the Fashion MNIST directly from TensorFlow, using the [Datasets](https://www.tensorflow.org/datasets) API:"
      ]
    },
    {
      "cell_type": "code",
      "metadata": {
        "colab": {
          "base_uri": "https://localhost:8080/",
          "height": 192
        },
        "id": "7MqDQO0KCaWS",
        "outputId": "e48bec04-c1b0-4389-83ee-72f93fb3588b"
      },
      "source": [
        "\"\"\"\n",
        "dataset, metadata = tfds.load('quickdraw_bitmap', as_supervised=True, with_info=True)\n",
        "train_dataset, test_dataset = dataset['train'], dataset['test']\n",
        "\"\"\"\n",
        "\n",
        "qd = QuickDrawData()\n",
        "qd.load_drawings([\"cat\", \"dog\"])\n",
        "\n",
        "dataset = [*qd.get_drawing_group(\"cat\").drawings, *qd.get_drawing_group(\"dog\").drawings]\n",
        "train_dataset, test_dataset = train_test_split(dataset, test_size=0.2)\n",
        "\n",
        "\"\"\"cats = QuickDrawDataGroup(\"cat\")\n",
        "print(cats.drawing_count)\n",
        "print(cats.get_drawing())\n",
        "\n",
        "dogs = QuickDrawDataGroup(\"dog\")\n",
        "print(dogs.drawing_count)\n",
        "print(dogs.get_drawing())\"\"\""
      ],
      "execution_count": 5,
      "outputs": [
        {
          "output_type": "stream",
          "name": "stdout",
          "text": [
            "downloading cat from https://storage.googleapis.com/quickdraw_dataset/full/binary/cat.bin\n",
            "download complete\n",
            "loading cat drawings\n",
            "load complete\n",
            "downloading dog from https://storage.googleapis.com/quickdraw_dataset/full/binary/dog.bin\n",
            "download complete\n",
            "loading dog drawings\n",
            "load complete\n"
          ]
        },
        {
          "output_type": "execute_result",
          "data": {
            "application/vnd.google.colaboratory.intrinsic+json": {
              "type": "string"
            },
            "text/plain": [
              "'cats = QuickDrawDataGroup(\"cat\")\\nprint(cats.drawing_count)\\nprint(cats.get_drawing())\\n\\ndogs = QuickDrawDataGroup(\"dog\")\\nprint(dogs.drawing_count)\\nprint(dogs.get_drawing())'"
            ]
          },
          "metadata": {},
          "execution_count": 5
        }
      ]
    },
    {
      "cell_type": "markdown",
      "metadata": {
        "id": "t9FDsUlxCaWW"
      },
      "source": [
        "Loading the dataset returns metadata as well as a *training dataset* and *test dataset*.\n",
        "\n",
        "* The model is trained using `train_dataset`.\n",
        "* The model is tested against `test_dataset`.\n",
        "\n",
        "The images are 28 $\\times$ 28 arrays, with pixel values in the range `[0, 255]`. The *labels* are an array of integers, in the range `[0, 9]`. These correspond to the *class* of clothing the image represents:\n",
        "\n",
        "<table>\n",
        "  <tr>\n",
        "    <th>Label</th>\n",
        "    <th>Class</th>\n",
        "  </tr>\n",
        "  <tr>\n",
        "    <td>0</td>\n",
        "    <td>T-shirt/top</td>\n",
        "  </tr>\n",
        "  <tr>\n",
        "    <td>1</td>\n",
        "    <td>Trouser</td>\n",
        "  </tr>\n",
        "    <tr>\n",
        "    <td>2</td>\n",
        "    <td>Pullover</td>\n",
        "  </tr>\n",
        "    <tr>\n",
        "    <td>3</td>\n",
        "    <td>Dress</td>\n",
        "  </tr>\n",
        "    <tr>\n",
        "    <td>4</td>\n",
        "    <td>Coat</td>\n",
        "  </tr>\n",
        "    <tr>\n",
        "    <td>5</td>\n",
        "    <td>Sandal</td>\n",
        "  </tr>\n",
        "    <tr>\n",
        "    <td>6</td>\n",
        "    <td>Shirt</td>\n",
        "  </tr>\n",
        "    <tr>\n",
        "    <td>7</td>\n",
        "    <td>Sneaker</td>\n",
        "  </tr>\n",
        "    <tr>\n",
        "    <td>8</td>\n",
        "    <td>Bag</td>\n",
        "  </tr>\n",
        "    <tr>\n",
        "    <td>9</td>\n",
        "    <td>Ankle boot</td>\n",
        "  </tr>\n",
        "</table>\n",
        "\n",
        "Each image is mapped to a single label. Since the *class names* are not included with the dataset, store them here to use later when plotting the images:"
      ]
    },
    {
      "cell_type": "code",
      "metadata": {
        "id": "IjnLH5S2CaWx",
        "colab": {
          "base_uri": "https://localhost:8080/"
        },
        "outputId": "4f616003-2004-4b2b-c001-46bb21ba62b4"
      },
      "source": [
        "class_names = {}\n",
        "for i in range(len(qd.loaded_drawings)):\n",
        "  class_names[i] = qd.loaded_drawings[i]\n",
        "\n",
        "print(\"Class names: {}\".format(class_names))"
      ],
      "execution_count": 6,
      "outputs": [
        {
          "output_type": "stream",
          "name": "stdout",
          "text": [
            "Class names: {0: 'cat', 1: 'dog'}\n"
          ]
        }
      ]
    },
    {
      "cell_type": "markdown",
      "metadata": {
        "id": "Brm0b_KACaWX"
      },
      "source": [
        "### Explore the data\n",
        "\n",
        "Let's explore the format of the dataset before training the model. The following shows there are 60,000 images in the training set, and 10000 images in the test set:"
      ]
    },
    {
      "cell_type": "code",
      "metadata": {
        "id": "MaOTZxFzi48X",
        "colab": {
          "base_uri": "https://localhost:8080/"
        },
        "outputId": "c7528fc8-8992-4b46-9066-4022989313e6"
      },
      "source": [
        "num_train_examples = len(train_dataset)\n",
        "num_test_examples = len(test_dataset)\n",
        "print(\"Number of training examples: {}\".format(num_train_examples))\n",
        "print(\"Number of test examples:     {}\".format(num_test_examples))"
      ],
      "execution_count": 7,
      "outputs": [
        {
          "output_type": "stream",
          "name": "stdout",
          "text": [
            "Number of training examples: 1600\n",
            "Number of test examples:     400\n"
          ]
        }
      ]
    },
    {
      "cell_type": "markdown",
      "metadata": {
        "id": "ES6uQoLKCaWr"
      },
      "source": [
        "## Preprocess the data\n",
        "\n",
        "The value of each pixel in the image data is an integer in the range `[0,255]`. For the model to work properly, these values need to be normalized to the range `[0,1]`. So here we create a normalization function, and then apply it to each image in the test and train datasets."
      ]
    },
    {
      "cell_type": "code",
      "metadata": {
        "id": "nAsH3Zm-76pB"
      },
      "source": [
        "def normalize(drawing):\n",
        "  drawing = list(drawing.image.resize((28,28)).getdata(0))\n",
        "  drawing = tf.cast(drawing, tf.float32)\n",
        "  drawing = tf.reshape(drawing, (28, 28, 1))\n",
        "  drawing /= 255\n",
        "  return drawing\n",
        "\n",
        "# The map function applies the normalize function to each element in the train\n",
        "# and test datasets and converts it to a TensorFlow dataset\n",
        "train_features = tf.stack(list(map(normalize, train_dataset)))\n",
        "train_labels = tf.stack(list(map(lambda d: d.name, train_dataset)))\n",
        "train_dataset = tf.data.Dataset.from_tensor_slices((train_features, train_labels))\n",
        "\n",
        "test_features = tf.stack(list(map(normalize, test_dataset)))\n",
        "test_labels = tf.stack(list(map(lambda d: d.name, test_dataset)))\n",
        "test_dataset = tf.data.Dataset.from_tensor_slices((test_features, test_labels))\n",
        "\n",
        "# The first time you use the dataset, the images will be loaded from disk\n",
        "# Caching will keep them in memory, making training faster\n",
        "train_dataset =  train_dataset.cache()\n",
        "test_dataset  =  test_dataset.cache()"
      ],
      "execution_count": 8,
      "outputs": []
    },
    {
      "cell_type": "markdown",
      "metadata": {
        "id": "lIQbEiJGXM-q"
      },
      "source": [
        "### Explore the processed data\n",
        "\n",
        "Let's plot an image to see what it looks like."
      ]
    },
    {
      "cell_type": "code",
      "metadata": {
        "id": "oSzE9l7PjHx0",
        "colab": {
          "base_uri": "https://localhost:8080/",
          "height": 1000
        },
        "outputId": "26445dce-bd8a-40bf-9142-e293107bf263"
      },
      "source": [
        "# Take a single image, and remove the color dimension by reshaping\n",
        "\n",
        "for image, label in test_dataset.take(1):\n",
        "  break\n",
        "print(image)\n",
        "image = image.numpy().reshape((28,28))\n",
        "# image = image.numpy().reshape((28,28))\n",
        "\n",
        "# Plot the image - voila a drawing!\n",
        "plt.figure()\n",
        "plt.imshow(image, cmap=plt.cm.binary)\n",
        "plt.colorbar()\n",
        "plt.grid(False)\n",
        "plt.show()\n",
        "print(label)"
      ],
      "execution_count": 10,
      "outputs": [
        {
          "output_type": "stream",
          "name": "stdout",
          "text": [
            "tf.Tensor(\n",
            "[[[1.        ]\n",
            "  [1.        ]\n",
            "  [1.        ]\n",
            "  [1.        ]\n",
            "  [1.        ]\n",
            "  [0.7529412 ]\n",
            "  [0.69803923]\n",
            "  [0.95686275]\n",
            "  [1.        ]\n",
            "  [1.        ]\n",
            "  [1.        ]\n",
            "  [1.        ]\n",
            "  [1.        ]\n",
            "  [1.        ]\n",
            "  [1.        ]\n",
            "  [0.7019608 ]\n",
            "  [0.83137256]\n",
            "  [1.        ]\n",
            "  [1.        ]\n",
            "  [1.        ]\n",
            "  [1.        ]\n",
            "  [1.        ]\n",
            "  [1.        ]\n",
            "  [1.        ]\n",
            "  [1.        ]\n",
            "  [1.        ]\n",
            "  [1.        ]\n",
            "  [1.        ]]\n",
            "\n",
            " [[1.        ]\n",
            "  [1.        ]\n",
            "  [1.        ]\n",
            "  [1.        ]\n",
            "  [1.        ]\n",
            "  [0.8352941 ]\n",
            "  [0.87058824]\n",
            "  [0.7529412 ]\n",
            "  [0.99607843]\n",
            "  [1.        ]\n",
            "  [1.        ]\n",
            "  [1.        ]\n",
            "  [1.        ]\n",
            "  [1.        ]\n",
            "  [0.9529412 ]\n",
            "  [0.7019608 ]\n",
            "  [0.8784314 ]\n",
            "  [1.        ]\n",
            "  [1.        ]\n",
            "  [1.        ]\n",
            "  [1.        ]\n",
            "  [1.        ]\n",
            "  [1.        ]\n",
            "  [1.        ]\n",
            "  [1.        ]\n",
            "  [1.        ]\n",
            "  [1.        ]\n",
            "  [1.        ]]\n",
            "\n",
            " [[1.        ]\n",
            "  [1.        ]\n",
            "  [1.        ]\n",
            "  [1.        ]\n",
            "  [1.        ]\n",
            "  [0.84705883]\n",
            "  [0.9254902 ]\n",
            "  [0.8352941 ]\n",
            "  [0.85490197]\n",
            "  [1.        ]\n",
            "  [1.        ]\n",
            "  [1.        ]\n",
            "  [1.        ]\n",
            "  [1.        ]\n",
            "  [0.83137256]\n",
            "  [0.827451  ]\n",
            "  [0.8745098 ]\n",
            "  [1.        ]\n",
            "  [1.        ]\n",
            "  [1.        ]\n",
            "  [1.        ]\n",
            "  [1.        ]\n",
            "  [1.        ]\n",
            "  [1.        ]\n",
            "  [1.        ]\n",
            "  [1.        ]\n",
            "  [1.        ]\n",
            "  [1.        ]]\n",
            "\n",
            " [[1.        ]\n",
            "  [1.        ]\n",
            "  [1.        ]\n",
            "  [1.        ]\n",
            "  [1.        ]\n",
            "  [0.8666667 ]\n",
            "  [0.8862745 ]\n",
            "  [0.99607843]\n",
            "  [0.7490196 ]\n",
            "  [0.9411765 ]\n",
            "  [0.92941177]\n",
            "  [0.9411765 ]\n",
            "  [0.9607843 ]\n",
            "  [0.9607843 ]\n",
            "  [0.827451  ]\n",
            "  [0.8784314 ]\n",
            "  [0.8901961 ]\n",
            "  [1.        ]\n",
            "  [1.        ]\n",
            "  [1.        ]\n",
            "  [1.        ]\n",
            "  [1.        ]\n",
            "  [1.        ]\n",
            "  [1.        ]\n",
            "  [1.        ]\n",
            "  [1.        ]\n",
            "  [1.        ]\n",
            "  [1.        ]]\n",
            "\n",
            " [[1.        ]\n",
            "  [1.        ]\n",
            "  [1.        ]\n",
            "  [1.        ]\n",
            "  [1.        ]\n",
            "  [0.89411765]\n",
            "  [0.87058824]\n",
            "  [0.99215686]\n",
            "  [0.75686276]\n",
            "  [0.8117647 ]\n",
            "  [0.91764706]\n",
            "  [0.9372549 ]\n",
            "  [0.90588236]\n",
            "  [0.77254903]\n",
            "  [0.8980392 ]\n",
            "  [0.8509804 ]\n",
            "  [0.92156863]\n",
            "  [1.        ]\n",
            "  [1.        ]\n",
            "  [1.        ]\n",
            "  [1.        ]\n",
            "  [1.        ]\n",
            "  [1.        ]\n",
            "  [1.        ]\n",
            "  [1.        ]\n",
            "  [1.        ]\n",
            "  [1.        ]\n",
            "  [1.        ]]\n",
            "\n",
            " [[1.        ]\n",
            "  [1.        ]\n",
            "  [1.        ]\n",
            "  [1.        ]\n",
            "  [1.        ]\n",
            "  [0.92941177]\n",
            "  [0.7882353 ]\n",
            "  [0.77254903]\n",
            "  [0.8901961 ]\n",
            "  [1.        ]\n",
            "  [1.        ]\n",
            "  [1.        ]\n",
            "  [0.99607843]\n",
            "  [0.78039217]\n",
            "  [0.8784314 ]\n",
            "  [0.8235294 ]\n",
            "  [0.9490196 ]\n",
            "  [1.        ]\n",
            "  [1.        ]\n",
            "  [1.        ]\n",
            "  [1.        ]\n",
            "  [1.        ]\n",
            "  [1.        ]\n",
            "  [1.        ]\n",
            "  [1.        ]\n",
            "  [1.        ]\n",
            "  [1.        ]\n",
            "  [1.        ]]\n",
            "\n",
            " [[1.        ]\n",
            "  [1.        ]\n",
            "  [1.        ]\n",
            "  [1.        ]\n",
            "  [1.        ]\n",
            "  [0.92156863]\n",
            "  [0.6392157 ]\n",
            "  [0.95686275]\n",
            "  [1.        ]\n",
            "  [1.        ]\n",
            "  [1.        ]\n",
            "  [0.99215686]\n",
            "  [0.99607843]\n",
            "  [0.99215686]\n",
            "  [0.7764706 ]\n",
            "  [0.7882353 ]\n",
            "  [0.972549  ]\n",
            "  [1.        ]\n",
            "  [1.        ]\n",
            "  [1.        ]\n",
            "  [1.        ]\n",
            "  [1.        ]\n",
            "  [1.        ]\n",
            "  [1.        ]\n",
            "  [1.        ]\n",
            "  [1.        ]\n",
            "  [1.        ]\n",
            "  [1.        ]]\n",
            "\n",
            " [[1.        ]\n",
            "  [1.        ]\n",
            "  [1.        ]\n",
            "  [1.        ]\n",
            "  [1.        ]\n",
            "  [0.73333335]\n",
            "  [0.7372549 ]\n",
            "  [0.9647059 ]\n",
            "  [1.        ]\n",
            "  [1.        ]\n",
            "  [0.9882353 ]\n",
            "  [0.76862746]\n",
            "  [0.972549  ]\n",
            "  [1.        ]\n",
            "  [0.83137256]\n",
            "  [0.7058824 ]\n",
            "  [0.99607843]\n",
            "  [1.        ]\n",
            "  [1.        ]\n",
            "  [1.        ]\n",
            "  [1.        ]\n",
            "  [1.        ]\n",
            "  [1.        ]\n",
            "  [1.        ]\n",
            "  [1.        ]\n",
            "  [1.        ]\n",
            "  [1.        ]\n",
            "  [1.        ]]\n",
            "\n",
            " [[1.        ]\n",
            "  [1.        ]\n",
            "  [1.        ]\n",
            "  [1.        ]\n",
            "  [0.9529412 ]\n",
            "  [0.7882353 ]\n",
            "  [0.8901961 ]\n",
            "  [0.94509804]\n",
            "  [1.        ]\n",
            "  [1.        ]\n",
            "  [0.9411765 ]\n",
            "  [0.8627451 ]\n",
            "  [1.        ]\n",
            "  [1.        ]\n",
            "  [0.9019608 ]\n",
            "  [0.78431374]\n",
            "  [1.        ]\n",
            "  [1.        ]\n",
            "  [1.        ]\n",
            "  [1.        ]\n",
            "  [1.        ]\n",
            "  [1.        ]\n",
            "  [1.        ]\n",
            "  [1.        ]\n",
            "  [1.        ]\n",
            "  [1.        ]\n",
            "  [1.        ]\n",
            "  [1.        ]]\n",
            "\n",
            " [[1.        ]\n",
            "  [0.95686275]\n",
            "  [0.90588236]\n",
            "  [0.9254902 ]\n",
            "  [0.83137256]\n",
            "  [0.85490197]\n",
            "  [1.        ]\n",
            "  [1.        ]\n",
            "  [1.        ]\n",
            "  [1.        ]\n",
            "  [1.        ]\n",
            "  [1.        ]\n",
            "  [0.99607843]\n",
            "  [0.9764706 ]\n",
            "  [0.8627451 ]\n",
            "  [0.79607844]\n",
            "  [0.9098039 ]\n",
            "  [0.9137255 ]\n",
            "  [0.9137255 ]\n",
            "  [0.9137255 ]\n",
            "  [0.8980392 ]\n",
            "  [0.9019608 ]\n",
            "  [0.9019608 ]\n",
            "  [0.8980392 ]\n",
            "  [0.8862745 ]\n",
            "  [0.89411765]\n",
            "  [0.89411765]\n",
            "  [0.89411765]]\n",
            "\n",
            " [[1.        ]\n",
            "  [0.9843137 ]\n",
            "  [0.9529412 ]\n",
            "  [0.9411765 ]\n",
            "  [0.7529412 ]\n",
            "  [0.8352941 ]\n",
            "  [0.8627451 ]\n",
            "  [0.87058824]\n",
            "  [0.972549  ]\n",
            "  [0.8980392 ]\n",
            "  [0.80784315]\n",
            "  [0.9764706 ]\n",
            "  [0.8745098 ]\n",
            "  [0.8862745 ]\n",
            "  [0.7764706 ]\n",
            "  [0.827451  ]\n",
            "  [0.9529412 ]\n",
            "  [0.9647059 ]\n",
            "  [0.9647059 ]\n",
            "  [0.9647059 ]\n",
            "  [0.972549  ]\n",
            "  [0.98039216]\n",
            "  [0.98039216]\n",
            "  [0.98039216]\n",
            "  [0.9882353 ]\n",
            "  [0.99215686]\n",
            "  [0.99215686]\n",
            "  [0.99215686]]\n",
            "\n",
            " [[1.        ]\n",
            "  [1.        ]\n",
            "  [1.        ]\n",
            "  [1.        ]\n",
            "  [0.85490197]\n",
            "  [0.91764706]\n",
            "  [1.        ]\n",
            "  [0.9764706 ]\n",
            "  [0.7882353 ]\n",
            "  [0.61960787]\n",
            "  [0.9490196 ]\n",
            "  [1.        ]\n",
            "  [1.        ]\n",
            "  [1.        ]\n",
            "  [0.80784315]\n",
            "  [0.98039216]\n",
            "  [1.        ]\n",
            "  [1.        ]\n",
            "  [1.        ]\n",
            "  [1.        ]\n",
            "  [1.        ]\n",
            "  [1.        ]\n",
            "  [1.        ]\n",
            "  [1.        ]\n",
            "  [1.        ]\n",
            "  [1.        ]\n",
            "  [1.        ]\n",
            "  [1.        ]]\n",
            "\n",
            " [[1.        ]\n",
            "  [0.99607843]\n",
            "  [0.9764706 ]\n",
            "  [0.95686275]\n",
            "  [0.9254902 ]\n",
            "  [0.80784315]\n",
            "  [1.        ]\n",
            "  [0.9411765 ]\n",
            "  [0.5647059 ]\n",
            "  [0.7647059 ]\n",
            "  [0.90588236]\n",
            "  [0.92941177]\n",
            "  [0.9607843 ]\n",
            "  [0.91764706]\n",
            "  [0.827451  ]\n",
            "  [1.        ]\n",
            "  [1.        ]\n",
            "  [1.        ]\n",
            "  [1.        ]\n",
            "  [1.        ]\n",
            "  [1.        ]\n",
            "  [1.        ]\n",
            "  [1.        ]\n",
            "  [1.        ]\n",
            "  [1.        ]\n",
            "  [1.        ]\n",
            "  [1.        ]\n",
            "  [1.        ]]\n",
            "\n",
            " [[0.8745098 ]\n",
            "  [0.8666667 ]\n",
            "  [0.8784314 ]\n",
            "  [0.9254902 ]\n",
            "  [0.9843137 ]\n",
            "  [0.7137255 ]\n",
            "  [0.7882353 ]\n",
            "  [0.8117647 ]\n",
            "  [0.90588236]\n",
            "  [0.99215686]\n",
            "  [0.9490196 ]\n",
            "  [0.92156863]\n",
            "  [0.81960785]\n",
            "  [0.5686275 ]\n",
            "  [0.77254903]\n",
            "  [0.83137256]\n",
            "  [0.87058824]\n",
            "  [0.88235295]\n",
            "  [0.8862745 ]\n",
            "  [0.8901961 ]\n",
            "  [0.8901961 ]\n",
            "  [0.8980392 ]\n",
            "  [0.9019608 ]\n",
            "  [0.9137255 ]\n",
            "  [0.91764706]\n",
            "  [0.93333334]\n",
            "  [0.94509804]\n",
            "  [0.99607843]]\n",
            "\n",
            " [[0.9843137 ]\n",
            "  [1.        ]\n",
            "  [0.9764706 ]\n",
            "  [0.89411765]\n",
            "  [0.84313726]\n",
            "  [0.8745098 ]\n",
            "  [0.7294118 ]\n",
            "  [0.9411765 ]\n",
            "  [1.        ]\n",
            "  [1.        ]\n",
            "  [1.        ]\n",
            "  [1.        ]\n",
            "  [0.8156863 ]\n",
            "  [0.8352941 ]\n",
            "  [0.9490196 ]\n",
            "  [0.89411765]\n",
            "  [0.85882354]\n",
            "  [0.9411765 ]\n",
            "  [0.99607843]\n",
            "  [0.9843137 ]\n",
            "  [0.9843137 ]\n",
            "  [0.972549  ]\n",
            "  [0.96862745]\n",
            "  [0.9529412 ]\n",
            "  [0.9490196 ]\n",
            "  [0.9372549 ]\n",
            "  [0.9411765 ]\n",
            "  [0.99607843]]\n",
            "\n",
            " [[1.        ]\n",
            "  [0.92156863]\n",
            "  [0.8509804 ]\n",
            "  [0.92941177]\n",
            "  [0.99607843]\n",
            "  [1.        ]\n",
            "  [0.94509804]\n",
            "  [0.76862746]\n",
            "  [0.8627451 ]\n",
            "  [0.9647059 ]\n",
            "  [0.9372549 ]\n",
            "  [0.85490197]\n",
            "  [0.84705883]\n",
            "  [1.        ]\n",
            "  [1.        ]\n",
            "  [1.        ]\n",
            "  [1.        ]\n",
            "  [0.99607843]\n",
            "  [1.        ]\n",
            "  [1.        ]\n",
            "  [1.        ]\n",
            "  [1.        ]\n",
            "  [1.        ]\n",
            "  [1.        ]\n",
            "  [1.        ]\n",
            "  [1.        ]\n",
            "  [1.        ]\n",
            "  [1.        ]]\n",
            "\n",
            " [[1.        ]\n",
            "  [0.99215686]\n",
            "  [1.        ]\n",
            "  [1.        ]\n",
            "  [1.        ]\n",
            "  [1.        ]\n",
            "  [1.        ]\n",
            "  [0.99607843]\n",
            "  [0.8980392 ]\n",
            "  [0.8784314 ]\n",
            "  [0.8862745 ]\n",
            "  [0.972549  ]\n",
            "  [1.        ]\n",
            "  [1.        ]\n",
            "  [1.        ]\n",
            "  [1.        ]\n",
            "  [1.        ]\n",
            "  [1.        ]\n",
            "  [1.        ]\n",
            "  [1.        ]\n",
            "  [1.        ]\n",
            "  [1.        ]\n",
            "  [1.        ]\n",
            "  [1.        ]\n",
            "  [1.        ]\n",
            "  [1.        ]\n",
            "  [1.        ]\n",
            "  [1.        ]]\n",
            "\n",
            " [[1.        ]\n",
            "  [1.        ]\n",
            "  [1.        ]\n",
            "  [1.        ]\n",
            "  [1.        ]\n",
            "  [1.        ]\n",
            "  [1.        ]\n",
            "  [1.        ]\n",
            "  [1.        ]\n",
            "  [1.        ]\n",
            "  [1.        ]\n",
            "  [1.        ]\n",
            "  [1.        ]\n",
            "  [1.        ]\n",
            "  [1.        ]\n",
            "  [1.        ]\n",
            "  [1.        ]\n",
            "  [1.        ]\n",
            "  [1.        ]\n",
            "  [1.        ]\n",
            "  [1.        ]\n",
            "  [1.        ]\n",
            "  [1.        ]\n",
            "  [1.        ]\n",
            "  [1.        ]\n",
            "  [1.        ]\n",
            "  [1.        ]\n",
            "  [1.        ]]\n",
            "\n",
            " [[1.        ]\n",
            "  [1.        ]\n",
            "  [1.        ]\n",
            "  [1.        ]\n",
            "  [1.        ]\n",
            "  [1.        ]\n",
            "  [1.        ]\n",
            "  [1.        ]\n",
            "  [1.        ]\n",
            "  [1.        ]\n",
            "  [1.        ]\n",
            "  [1.        ]\n",
            "  [1.        ]\n",
            "  [1.        ]\n",
            "  [1.        ]\n",
            "  [1.        ]\n",
            "  [1.        ]\n",
            "  [1.        ]\n",
            "  [1.        ]\n",
            "  [1.        ]\n",
            "  [1.        ]\n",
            "  [1.        ]\n",
            "  [1.        ]\n",
            "  [1.        ]\n",
            "  [1.        ]\n",
            "  [1.        ]\n",
            "  [1.        ]\n",
            "  [1.        ]]\n",
            "\n",
            " [[1.        ]\n",
            "  [1.        ]\n",
            "  [1.        ]\n",
            "  [1.        ]\n",
            "  [1.        ]\n",
            "  [1.        ]\n",
            "  [1.        ]\n",
            "  [1.        ]\n",
            "  [1.        ]\n",
            "  [1.        ]\n",
            "  [1.        ]\n",
            "  [1.        ]\n",
            "  [1.        ]\n",
            "  [1.        ]\n",
            "  [1.        ]\n",
            "  [1.        ]\n",
            "  [1.        ]\n",
            "  [1.        ]\n",
            "  [1.        ]\n",
            "  [1.        ]\n",
            "  [1.        ]\n",
            "  [1.        ]\n",
            "  [1.        ]\n",
            "  [1.        ]\n",
            "  [1.        ]\n",
            "  [1.        ]\n",
            "  [1.        ]\n",
            "  [1.        ]]\n",
            "\n",
            " [[1.        ]\n",
            "  [1.        ]\n",
            "  [1.        ]\n",
            "  [1.        ]\n",
            "  [1.        ]\n",
            "  [1.        ]\n",
            "  [1.        ]\n",
            "  [1.        ]\n",
            "  [1.        ]\n",
            "  [1.        ]\n",
            "  [1.        ]\n",
            "  [1.        ]\n",
            "  [1.        ]\n",
            "  [1.        ]\n",
            "  [1.        ]\n",
            "  [1.        ]\n",
            "  [1.        ]\n",
            "  [1.        ]\n",
            "  [1.        ]\n",
            "  [1.        ]\n",
            "  [1.        ]\n",
            "  [1.        ]\n",
            "  [1.        ]\n",
            "  [1.        ]\n",
            "  [1.        ]\n",
            "  [1.        ]\n",
            "  [1.        ]\n",
            "  [1.        ]]\n",
            "\n",
            " [[1.        ]\n",
            "  [1.        ]\n",
            "  [1.        ]\n",
            "  [1.        ]\n",
            "  [1.        ]\n",
            "  [1.        ]\n",
            "  [1.        ]\n",
            "  [1.        ]\n",
            "  [1.        ]\n",
            "  [1.        ]\n",
            "  [1.        ]\n",
            "  [1.        ]\n",
            "  [1.        ]\n",
            "  [1.        ]\n",
            "  [1.        ]\n",
            "  [1.        ]\n",
            "  [1.        ]\n",
            "  [1.        ]\n",
            "  [1.        ]\n",
            "  [1.        ]\n",
            "  [1.        ]\n",
            "  [1.        ]\n",
            "  [1.        ]\n",
            "  [1.        ]\n",
            "  [1.        ]\n",
            "  [1.        ]\n",
            "  [1.        ]\n",
            "  [1.        ]]\n",
            "\n",
            " [[1.        ]\n",
            "  [1.        ]\n",
            "  [1.        ]\n",
            "  [1.        ]\n",
            "  [1.        ]\n",
            "  [1.        ]\n",
            "  [1.        ]\n",
            "  [1.        ]\n",
            "  [1.        ]\n",
            "  [1.        ]\n",
            "  [1.        ]\n",
            "  [1.        ]\n",
            "  [1.        ]\n",
            "  [1.        ]\n",
            "  [1.        ]\n",
            "  [1.        ]\n",
            "  [1.        ]\n",
            "  [1.        ]\n",
            "  [1.        ]\n",
            "  [1.        ]\n",
            "  [1.        ]\n",
            "  [1.        ]\n",
            "  [1.        ]\n",
            "  [1.        ]\n",
            "  [1.        ]\n",
            "  [1.        ]\n",
            "  [1.        ]\n",
            "  [1.        ]]\n",
            "\n",
            " [[1.        ]\n",
            "  [1.        ]\n",
            "  [1.        ]\n",
            "  [1.        ]\n",
            "  [1.        ]\n",
            "  [1.        ]\n",
            "  [1.        ]\n",
            "  [1.        ]\n",
            "  [1.        ]\n",
            "  [1.        ]\n",
            "  [1.        ]\n",
            "  [1.        ]\n",
            "  [1.        ]\n",
            "  [1.        ]\n",
            "  [1.        ]\n",
            "  [1.        ]\n",
            "  [1.        ]\n",
            "  [1.        ]\n",
            "  [1.        ]\n",
            "  [1.        ]\n",
            "  [1.        ]\n",
            "  [1.        ]\n",
            "  [1.        ]\n",
            "  [1.        ]\n",
            "  [1.        ]\n",
            "  [1.        ]\n",
            "  [1.        ]\n",
            "  [1.        ]]\n",
            "\n",
            " [[1.        ]\n",
            "  [1.        ]\n",
            "  [1.        ]\n",
            "  [1.        ]\n",
            "  [1.        ]\n",
            "  [1.        ]\n",
            "  [1.        ]\n",
            "  [1.        ]\n",
            "  [1.        ]\n",
            "  [1.        ]\n",
            "  [1.        ]\n",
            "  [1.        ]\n",
            "  [1.        ]\n",
            "  [1.        ]\n",
            "  [1.        ]\n",
            "  [1.        ]\n",
            "  [1.        ]\n",
            "  [1.        ]\n",
            "  [1.        ]\n",
            "  [1.        ]\n",
            "  [1.        ]\n",
            "  [1.        ]\n",
            "  [1.        ]\n",
            "  [1.        ]\n",
            "  [1.        ]\n",
            "  [1.        ]\n",
            "  [1.        ]\n",
            "  [1.        ]]\n",
            "\n",
            " [[1.        ]\n",
            "  [1.        ]\n",
            "  [1.        ]\n",
            "  [1.        ]\n",
            "  [1.        ]\n",
            "  [1.        ]\n",
            "  [1.        ]\n",
            "  [1.        ]\n",
            "  [1.        ]\n",
            "  [1.        ]\n",
            "  [1.        ]\n",
            "  [1.        ]\n",
            "  [1.        ]\n",
            "  [1.        ]\n",
            "  [1.        ]\n",
            "  [1.        ]\n",
            "  [1.        ]\n",
            "  [1.        ]\n",
            "  [1.        ]\n",
            "  [1.        ]\n",
            "  [1.        ]\n",
            "  [1.        ]\n",
            "  [1.        ]\n",
            "  [1.        ]\n",
            "  [1.        ]\n",
            "  [1.        ]\n",
            "  [1.        ]\n",
            "  [1.        ]]\n",
            "\n",
            " [[1.        ]\n",
            "  [1.        ]\n",
            "  [1.        ]\n",
            "  [1.        ]\n",
            "  [1.        ]\n",
            "  [1.        ]\n",
            "  [1.        ]\n",
            "  [1.        ]\n",
            "  [1.        ]\n",
            "  [1.        ]\n",
            "  [1.        ]\n",
            "  [1.        ]\n",
            "  [1.        ]\n",
            "  [1.        ]\n",
            "  [1.        ]\n",
            "  [1.        ]\n",
            "  [1.        ]\n",
            "  [1.        ]\n",
            "  [1.        ]\n",
            "  [1.        ]\n",
            "  [1.        ]\n",
            "  [1.        ]\n",
            "  [1.        ]\n",
            "  [1.        ]\n",
            "  [1.        ]\n",
            "  [1.        ]\n",
            "  [1.        ]\n",
            "  [1.        ]]\n",
            "\n",
            " [[1.        ]\n",
            "  [1.        ]\n",
            "  [1.        ]\n",
            "  [1.        ]\n",
            "  [1.        ]\n",
            "  [1.        ]\n",
            "  [1.        ]\n",
            "  [1.        ]\n",
            "  [1.        ]\n",
            "  [1.        ]\n",
            "  [1.        ]\n",
            "  [1.        ]\n",
            "  [1.        ]\n",
            "  [1.        ]\n",
            "  [1.        ]\n",
            "  [1.        ]\n",
            "  [1.        ]\n",
            "  [1.        ]\n",
            "  [1.        ]\n",
            "  [1.        ]\n",
            "  [1.        ]\n",
            "  [1.        ]\n",
            "  [1.        ]\n",
            "  [1.        ]\n",
            "  [1.        ]\n",
            "  [1.        ]\n",
            "  [1.        ]\n",
            "  [1.        ]]], shape=(28, 28, 1), dtype=float32)\n"
          ]
        },
        {
          "output_type": "display_data",
          "data": {
            "image/png": "[encoded data removed]",
            "text/plain": [
              "<Figure size 432x288 with 2 Axes>"
            ]
          },
          "metadata": {
            "needs_background": "light"
          }
        },
        {
          "output_type": "stream",
          "name": "stdout",
          "text": [
            "tf.Tensor(b'cat', shape=(), dtype=string)\n"
          ]
        }
      ]
    },
    {
      "cell_type": "markdown",
      "metadata": {
        "id": "Ee638AlnCaWz"
      },
      "source": [
        "Display the first 25 images from the *training set* and display the class name below each image. Verify that the data is in the correct format and we're ready to build and train the network."
      ]
    },
    {
      "cell_type": "code",
      "metadata": {
        "id": "oZTImqg_CaW1",
        "colab": {
          "base_uri": "https://localhost:8080/",
          "height": 589
        },
        "outputId": "389caebe-9885-4671-f78a-ede7bbb7752e"
      },
      "source": [
        "plt.figure(figsize=(10,10))\n",
        "for i, (image, label) in enumerate(test_dataset.take(25)):\n",
        "    image = image.numpy().reshape((28,28))\n",
        "    plt.subplot(5,5,i+1)\n",
        "    plt.xticks([])\n",
        "    plt.yticks([])\n",
        "    plt.grid(False)\n",
        "    plt.imshow(image, cmap=plt.cm.binary)\n",
        "    plt.xlabel(label.numpy().decode())\n",
        "plt.show()"
      ],
      "execution_count": 21,
      "outputs": [
        {
          "output_type": "display_data",
          "data": {
            "image/png": "[encoded data removed]",
            "text/plain": [
              "<Figure size 720x720 with 25 Axes>"
            ]
          },
          "metadata": {}
        }
      ]
    },
    {
      "cell_type": "markdown",
      "metadata": {
        "id": "59veuiEZCaW4"
      },
      "source": [
        "## Build the model\n",
        "\n",
        "Building the neural network requires configuring the layers of the model, then compiling the model."
      ]
    },
    {
      "cell_type": "markdown",
      "metadata": {
        "id": "Gxg1XGm0eOBy"
      },
      "source": [
        "### Setup the layers\n",
        "\n",
        "The basic building block of a neural network is the *layer*. A layer extracts a representation from the data fed into it. Hopefully, a series of connected layers results in a representation that is meaningful for the problem at hand.\n",
        "\n",
        "Much of deep learning consists of chaining together simple layers. Most layers, like `tf.keras.layers.Dense`, have internal parameters which are adjusted (\"learned\") during training."
      ]
    },
    {
      "cell_type": "code",
      "metadata": {
        "id": "9ODch-OFCaW4"
      },
      "source": [
        "model = tf.keras.Sequential([\n",
        "    tf.keras.layers.Flatten(input_shape=(28, 28, 1)),\n",
        "    tf.keras.layers.Dense(128, activation=tf.nn.relu),\n",
        "    tf.keras.layers.Dense(10, activation=tf.nn.softmax)\n",
        "])"
      ],
      "execution_count": 22,
      "outputs": []
    },
    {
      "cell_type": "markdown",
      "metadata": {
        "id": "gut8A_7rCaW6"
      },
      "source": [
        "This network has three layers:\n",
        "\n",
        "* **input** `tf.keras.layers.Flatten` — This layer transforms the images from a 2d-array of 28 $\\times$ 28 pixels, to a 1d-array of 784 pixels (28\\*28). Think of this layer as unstacking rows of pixels in the image and lining them up. This layer has no parameters to learn, as it only reformats the data.\n",
        "\n",
        "* **\"hidden\"** `tf.keras.layers.Dense`— A densely connected layer of 128 neurons. Each neuron (or node) takes input from all 784 nodes in the previous layer, weighting that input according to hidden parameters which will be learned during training, and outputs a single value to the next layer.\n",
        "\n",
        "* **output**  `tf.keras.layers.Dense` — A 128-neuron, followed by 10-node *softmax* layer. Each node represents a class of clothing. As in the previous layer, the final layer takes input from the 128 nodes in the layer before it, and outputs a value in the range `[0, 1]`, representing the probability that the image belongs to that class. The sum of all 10 node values is 1.\n",
        "\n",
        "> Note: Using `softmax` activation and `SparseCategoricalCrossentropy()` has issues and which are patched by the `tf.keras` model. A safer approach, in general, is to use a linear output (no activation function) with `SparseCategoricalCrossentropy(from_logits=True)`.\n",
        "\n",
        "\n",
        "### Compile the model\n",
        "\n",
        "Before the model is ready for training, it needs a few more settings. These are added during the model's *compile* step:\n",
        "\n",
        "\n",
        "* *Loss function* — An algorithm for measuring how far the model's outputs are from the desired output. The goal of training is this measures loss.\n",
        "* *Optimizer* —An algorithm for adjusting the inner parameters of the model in order to minimize loss.\n",
        "* *Metrics* —Used to monitor the training and testing steps. The following example uses *accuracy*, the fraction of the images that are correctly classified."
      ]
    },
    {
      "cell_type": "code",
      "metadata": {
        "id": "Lhan11blCaW7"
      },
      "source": [
        "model.compile(optimizer='adam',\n",
        "              loss=tf.keras.losses.SparseCategoricalCrossentropy(),\n",
        "              metrics=['accuracy'])"
      ],
      "execution_count": 23,
      "outputs": []
    },
    {
      "cell_type": "markdown",
      "metadata": {
        "id": "qKF6uW-BCaW-"
      },
      "source": [
        "## Train the model\n",
        "\n",
        "First, we define the iteration behavior for the train dataset:\n",
        "1. Repeat forever by specifying `dataset.repeat()` (the `epochs` parameter described below limits how long we perform training).\n",
        "2. The `dataset.shuffle(60000)` randomizes the order so our model cannot learn anything from the order of the examples.\n",
        "3. And `dataset.batch(32)` tells `model.fit` to use batches of 32 images and labels when updating the model variables.\n",
        "\n",
        "Training is performed by calling the `model.fit` method:\n",
        "1. Feed the training data to the model using `train_dataset`.\n",
        "2. The model learns to associate images and labels.\n",
        "3. The `epochs=5` parameter limits training to 5 full iterations of the training dataset, so a total of 5 * 60000 = 300000 examples.\n",
        "\n",
        "(Don't worry about `steps_per_epoch`, the requirement to have this flag will soon be removed.)"
      ]
    },
    {
      "cell_type": "code",
      "metadata": {
        "id": "o_Dp8971McQ1"
      },
      "source": [
        "BATCH_SIZE = 32\n",
        "train_dataset = train_dataset.cache().repeat().shuffle(num_train_examples).batch(BATCH_SIZE)\n",
        "test_dataset = test_dataset.cache().batch(BATCH_SIZE)"
      ],
      "execution_count": 24,
      "outputs": []
    },
    {
      "cell_type": "code",
      "metadata": {
        "id": "xvwvpA64CaW_",
        "colab": {
          "base_uri": "https://localhost:8080/",
          "height": 1000
        },
        "outputId": "c7d2118b-d90e-47d0-a9d5-310a48e53885"
      },
      "source": [
        "model.fit(train_dataset, epochs=5, steps_per_epoch=math.ceil(num_train_examples/BATCH_SIZE))"
      ],
      "execution_count": 25,
      "outputs": [
        {
          "output_type": "stream",
          "name": "stdout",
          "text": [
            "Epoch 1/5\n"
          ]
        },
        {
          "output_type": "error",
          "ename": "UnimplementedError",
          "evalue": "ignored",
          "traceback": [
            "\u001b[0;31m---------------------------------------------------------------------------\u001b[0m",
            "\u001b[0;31mUnimplementedError\u001b[0m                        Traceback (most recent call last)",
            "\u001b[0;32m<ipython-input-25-8ed533787d52>\u001b[0m in \u001b[0;36m<module>\u001b[0;34m()\u001b[0m\n\u001b[0;32m----> 1\u001b[0;31m \u001b[0mmodel\u001b[0m\u001b[0;34m.\u001b[0m\u001b[0mfit\u001b[0m\u001b[0;34m(\u001b[0m\u001b[0mtrain_dataset\u001b[0m\u001b[0;34m,\u001b[0m \u001b[0mepochs\u001b[0m\u001b[0;34m=\u001b[0m\u001b[0;36m5\u001b[0m\u001b[0;34m,\u001b[0m \u001b[0msteps_per_epoch\u001b[0m\u001b[0;34m=\u001b[0m\u001b[0mmath\u001b[0m\u001b[0;34m.\u001b[0m\u001b[0mceil\u001b[0m\u001b[0;34m(\u001b[0m\u001b[0mnum_train_examples\u001b[0m\u001b[0;34m/\u001b[0m\u001b[0mBATCH_SIZE\u001b[0m\u001b[0;34m)\u001b[0m\u001b[0;34m)\u001b[0m\u001b[0;34m\u001b[0m\u001b[0;34m\u001b[0m\u001b[0m\n\u001b[0m",
            "\u001b[0;32m/usr/local/lib/python3.7/dist-packages/keras/utils/traceback_utils.py\u001b[0m in \u001b[0;36merror_handler\u001b[0;34m(*args, **kwargs)\u001b[0m\n\u001b[1;32m     65\u001b[0m     \u001b[0;32mexcept\u001b[0m \u001b[0mException\u001b[0m \u001b[0;32mas\u001b[0m \u001b[0me\u001b[0m\u001b[0;34m:\u001b[0m  \u001b[0;31m# pylint: disable=broad-except\u001b[0m\u001b[0;34m\u001b[0m\u001b[0;34m\u001b[0m\u001b[0m\n\u001b[1;32m     66\u001b[0m       \u001b[0mfiltered_tb\u001b[0m \u001b[0;34m=\u001b[0m \u001b[0m_process_traceback_frames\u001b[0m\u001b[0;34m(\u001b[0m\u001b[0me\u001b[0m\u001b[0;34m.\u001b[0m\u001b[0m__traceback__\u001b[0m\u001b[0;34m)\u001b[0m\u001b[0;34m\u001b[0m\u001b[0;34m\u001b[0m\u001b[0m\n\u001b[0;32m---> 67\u001b[0;31m       \u001b[0;32mraise\u001b[0m \u001b[0me\u001b[0m\u001b[0;34m.\u001b[0m\u001b[0mwith_traceback\u001b[0m\u001b[0;34m(\u001b[0m\u001b[0mfiltered_tb\u001b[0m\u001b[0;34m)\u001b[0m \u001b[0;32mfrom\u001b[0m \u001b[0;32mNone\u001b[0m\u001b[0;34m\u001b[0m\u001b[0;34m\u001b[0m\u001b[0m\n\u001b[0m\u001b[1;32m     68\u001b[0m     \u001b[0;32mfinally\u001b[0m\u001b[0;34m:\u001b[0m\u001b[0;34m\u001b[0m\u001b[0;34m\u001b[0m\u001b[0m\n\u001b[1;32m     69\u001b[0m       \u001b[0;32mdel\u001b[0m \u001b[0mfiltered_tb\u001b[0m\u001b[0;34m\u001b[0m\u001b[0;34m\u001b[0m\u001b[0m\n",
            "\u001b[0;32m/usr/local/lib/python3.7/dist-packages/tensorflow/python/eager/execute.py\u001b[0m in \u001b[0;36mquick_execute\u001b[0;34m(op_name, num_outputs, inputs, attrs, ctx, name)\u001b[0m\n\u001b[1;32m     57\u001b[0m     \u001b[0mctx\u001b[0m\u001b[0;34m.\u001b[0m\u001b[0mensure_initialized\u001b[0m\u001b[0;34m(\u001b[0m\u001b[0;34m)\u001b[0m\u001b[0;34m\u001b[0m\u001b[0;34m\u001b[0m\u001b[0m\n\u001b[1;32m     58\u001b[0m     tensors = pywrap_tfe.TFE_Py_Execute(ctx._handle, device_name, op_name,\n\u001b[0;32m---> 59\u001b[0;31m                                         inputs, attrs, num_outputs)\n\u001b[0m\u001b[1;32m     60\u001b[0m   \u001b[0;32mexcept\u001b[0m \u001b[0mcore\u001b[0m\u001b[0;34m.\u001b[0m\u001b[0m_NotOkStatusException\u001b[0m \u001b[0;32mas\u001b[0m \u001b[0me\u001b[0m\u001b[0;34m:\u001b[0m\u001b[0;34m\u001b[0m\u001b[0;34m\u001b[0m\u001b[0m\n\u001b[1;32m     61\u001b[0m     \u001b[0;32mif\u001b[0m \u001b[0mname\u001b[0m \u001b[0;32mis\u001b[0m \u001b[0;32mnot\u001b[0m \u001b[0;32mNone\u001b[0m\u001b[0;34m:\u001b[0m\u001b[0;34m\u001b[0m\u001b[0;34m\u001b[0m\u001b[0m\n",
            "\u001b[0;31mUnimplementedError\u001b[0m:  Cast string to float is not supported\n\t [[node Cast_1\n (defined at /usr/local/lib/python3.7/dist-packages/keras/metrics.py:716)\n]] [Op:__inference_train_function_13080]\n\nErrors may have originated from an input operation.\nInput Source operations connected to node Cast_1:\nIn[0] ExpandDims_1 (defined at /usr/local/lib/python3.7/dist-packages/keras/engine/compile_utils.py:677)\n\nOperation defined at: (most recent call last)\n>>>   File \"/usr/lib/python3.7/runpy.py\", line 193, in _run_module_as_main\n>>>     \"__main__\", mod_spec)\n>>> \n>>>   File \"/usr/lib/python3.7/runpy.py\", line 85, in _run_code\n>>>     exec(code, run_globals)\n>>> \n>>>   File \"/usr/local/lib/python3.7/dist-packages/ipykernel_launcher.py\", line 16, in <module>\n>>>     app.launch_new_instance()\n>>> \n>>>   File \"/usr/local/lib/python3.7/dist-packages/traitlets/config/application.py\", line 846, in launch_instance\n>>>     app.start()\n>>> \n>>>   File \"/usr/local/lib/python3.7/dist-packages/ipykernel/kernelapp.py\", line 499, in start\n>>>     self.io_loop.start()\n>>> \n>>>   File \"/usr/local/lib/python3.7/dist-packages/tornado/platform/asyncio.py\", line 132, in start\n>>>     self.asyncio_loop.run_forever()\n>>> \n>>>   File \"/usr/lib/python3.7/asyncio/base_events.py\", line 541, in run_forever\n>>>     self._run_once()\n>>> \n>>>   File \"/usr/lib/python3.7/asyncio/base_events.py\", line 1786, in _run_once\n>>>     handle._run()\n>>> \n>>>   File \"/usr/lib/python3.7/asyncio/events.py\", line 88, in _run\n>>>     self._context.run(self._callback, *self._args)\n>>> \n>>>   File \"/usr/local/lib/python3.7/dist-packages/tornado/platform/asyncio.py\", line 122, in _handle_events\n>>>     handler_func(fileobj, events)\n>>> \n>>>   File \"/usr/local/lib/python3.7/dist-packages/tornado/stack_context.py\", line 300, in null_wrapper\n>>>     return fn(*args, **kwargs)\n>>> \n>>>   File \"/usr/local/lib/python3.7/dist-packages/zmq/eventloop/zmqstream.py\", line 452, in _handle_events\n>>>     self._handle_recv()\n>>> \n>>>   File \"/usr/local/lib/python3.7/dist-packages/zmq/eventloop/zmqstream.py\", line 481, in _handle_recv\n>>>     self._run_callback(callback, msg)\n>>> \n>>>   File \"/usr/local/lib/python3.7/dist-packages/zmq/eventloop/zmqstream.py\", line 431, in _run_callback\n>>>     callback(*args, **kwargs)\n>>> \n>>>   File \"/usr/local/lib/python3.7/dist-packages/tornado/stack_context.py\", line 300, in null_wrapper\n>>>     return fn(*args, **kwargs)\n>>> \n>>>   File \"/usr/local/lib/python3.7/dist-packages/ipykernel/kernelbase.py\", line 283, in dispatcher\n>>>     return self.dispatch_shell(stream, msg)\n>>> \n>>>   File \"/usr/local/lib/python3.7/dist-packages/ipykernel/kernelbase.py\", line 233, in dispatch_shell\n>>>     handler(stream, idents, msg)\n>>> \n>>>   File \"/usr/local/lib/python3.7/dist-packages/ipykernel/kernelbase.py\", line 399, in execute_request\n>>>     user_expressions, allow_stdin)\n>>> \n>>>   File \"/usr/local/lib/python3.7/dist-packages/ipykernel/ipkernel.py\", line 208, in do_execute\n>>>     res = shell.run_cell(code, store_history=store_history, silent=silent)\n>>> \n>>>   File \"/usr/local/lib/python3.7/dist-packages/ipykernel/zmqshell.py\", line 537, in run_cell\n>>>     return super(ZMQInteractiveShell, self).run_cell(*args, **kwargs)\n>>> \n>>>   File \"/usr/local/lib/python3.7/dist-packages/IPython/core/interactiveshell.py\", line 2718, in run_cell\n>>>     interactivity=interactivity, compiler=compiler, result=result)\n>>> \n>>>   File \"/usr/local/lib/python3.7/dist-packages/IPython/core/interactiveshell.py\", line 2828, in run_ast_nodes\n>>>     if self.run_code(code, result):\n>>> \n>>>   File \"/usr/local/lib/python3.7/dist-packages/IPython/core/interactiveshell.py\", line 2882, in run_code\n>>>     exec(code_obj, self.user_global_ns, self.user_ns)\n>>> \n>>>   File \"<ipython-input-25-8ed533787d52>\", line 1, in <module>\n>>>     model.fit(train_dataset, epochs=5, steps_per_epoch=math.ceil(num_train_examples/BATCH_SIZE))\n>>> \n>>>   File \"/usr/local/lib/python3.7/dist-packages/keras/utils/traceback_utils.py\", line 64, in error_handler\n>>>     return fn(*args, **kwargs)\n>>> \n>>>   File \"/usr/local/lib/python3.7/dist-packages/keras/engine/training.py\", line 1216, in fit\n>>>     tmp_logs = self.train_function(iterator)\n>>> \n>>>   File \"/usr/local/lib/python3.7/dist-packages/keras/engine/training.py\", line 878, in train_function\n>>>     return step_function(self, iterator)\n>>> \n>>>   File \"/usr/local/lib/python3.7/dist-packages/keras/engine/training.py\", line 867, in step_function\n>>>     outputs = model.distribute_strategy.run(run_step, args=(data,))\n>>> \n>>>   File \"/usr/local/lib/python3.7/dist-packages/keras/engine/training.py\", line 860, in run_step\n>>>     outputs = model.train_step(data)\n>>> \n>>>   File \"/usr/local/lib/python3.7/dist-packages/keras/engine/training.py\", line 817, in train_step\n>>>     self.compiled_metrics.update_state(y, y_pred, sample_weight)\n>>> \n>>>   File \"/usr/local/lib/python3.7/dist-packages/keras/engine/compile_utils.py\", line 460, in update_state\n>>>     metric_obj.update_state(y_t, y_p, sample_weight=mask)\n>>> \n>>>   File \"/usr/local/lib/python3.7/dist-packages/keras/utils/metrics_utils.py\", line 73, in decorated\n>>>     update_op = update_state_fn(*args, **kwargs)\n>>> \n>>>   File \"/usr/local/lib/python3.7/dist-packages/keras/metrics.py\", line 177, in update_state_fn\n>>>     return ag_update_state(*args, **kwargs)\n>>> \n>>>   File \"/usr/local/lib/python3.7/dist-packages/keras/metrics.py\", line 716, in update_state\n>>>     y_true = tf.cast(y_true, self._dtype)\n>>> "
          ]
        }
      ]
    },
    {
      "cell_type": "markdown",
      "metadata": {
        "id": "W3ZVOhugCaXA"
      },
      "source": [
        "As the model trains, the loss and accuracy metrics are displayed. This model reaches an accuracy of about 0.88 (or 88%) on the training data."
      ]
    },
    {
      "cell_type": "markdown",
      "metadata": {
        "id": "oEw4bZgGCaXB"
      },
      "source": [
        "## Evaluate accuracy\n",
        "\n",
        "Next, compare how the model performs on the test dataset. Use all examples we have in the test dataset to assess accuracy."
      ]
    },
    {
      "cell_type": "code",
      "metadata": {
        "id": "VflXLEeECaXC"
      },
      "source": [
        "test_loss, test_accuracy = model.evaluate(test_dataset, steps=math.ceil(num_test_examples/32))\n",
        "print('Accuracy on test dataset:', test_accuracy)"
      ],
      "execution_count": null,
      "outputs": []
    },
    {
      "cell_type": "markdown",
      "metadata": {
        "id": "yWfgsmVXCaXG"
      },
      "source": [
        "As it turns out, the accuracy on the test dataset is smaller than the accuracy on the training dataset. This is completely normal, since the model was trained on the `train_dataset`. When the model sees images it has never seen during training, (that is, from the `test_dataset`), we can expect performance to go down. "
      ]
    },
    {
      "cell_type": "markdown",
      "metadata": {
        "id": "xsoS7CPDCaXH"
      },
      "source": [
        "## Make predictions and explore\n",
        "\n",
        "With the model trained, we can use it to make predictions about some images."
      ]
    },
    {
      "cell_type": "code",
      "metadata": {
        "id": "Ccoz4conNCpl"
      },
      "source": [
        "for test_images, test_labels in test_dataset.take(1):\n",
        "  test_images = test_images.numpy()\n",
        "  test_labels = test_labels.numpy()\n",
        "  predictions = model.predict(test_images)"
      ],
      "execution_count": null,
      "outputs": []
    },
    {
      "cell_type": "code",
      "metadata": {
        "id": "Gl91RPhdCaXI"
      },
      "source": [
        "predictions.shape\n"
      ],
      "execution_count": null,
      "outputs": []
    },
    {
      "cell_type": "markdown",
      "metadata": {
        "id": "x9Kk1voUCaXJ"
      },
      "source": [
        "Here, the model has predicted the label for each image in the testing set. Let's take a look at the first prediction:"
      ]
    },
    {
      "cell_type": "code",
      "metadata": {
        "id": "3DmJEUinCaXK"
      },
      "source": [
        "predictions[0]"
      ],
      "execution_count": null,
      "outputs": []
    },
    {
      "cell_type": "markdown",
      "metadata": {
        "id": "-hw1hgeSCaXN"
      },
      "source": [
        "A prediction is an array of 10 numbers. These describe the \"confidence\" of the model that the image corresponds to each of the 10 different articles of clothing. We can see which label has the highest confidence value:"
      ]
    },
    {
      "cell_type": "code",
      "metadata": {
        "id": "qsqenuPnCaXO"
      },
      "source": [
        "np.argmax(predictions[0])"
      ],
      "execution_count": null,
      "outputs": []
    },
    {
      "cell_type": "markdown",
      "metadata": {
        "id": "E51yS7iCCaXO"
      },
      "source": [
        "So the model is most confident that this image is a shirt, or `class_names[6]`. And we can check the test label to see this is correct:"
      ]
    },
    {
      "cell_type": "code",
      "metadata": {
        "id": "Sd7Pgsu6CaXP"
      },
      "source": [
        "test_labels[0]"
      ],
      "execution_count": null,
      "outputs": []
    },
    {
      "cell_type": "markdown",
      "metadata": {
        "id": "ygh2yYC972ne"
      },
      "source": [
        "We can graph this to look at the full set of 10 class predictions"
      ]
    },
    {
      "cell_type": "code",
      "metadata": {
        "id": "DvYmmrpIy6Y1"
      },
      "source": [
        "def plot_image(i, predictions_array, true_labels, images):\n",
        "  predictions_array, true_label, img = predictions_array[i], true_labels[i], images[i]\n",
        "  plt.grid(False)\n",
        "  plt.xticks([])\n",
        "  plt.yticks([])\n",
        "  \n",
        "  plt.imshow(img[...,0], cmap=plt.cm.binary)\n",
        "\n",
        "  predicted_label = np.argmax(predictions_array)\n",
        "  if predicted_label == true_label:\n",
        "    color = 'blue'\n",
        "  else:\n",
        "    color = 'red'\n",
        "  \n",
        "  plt.xlabel(\"{} {:2.0f}% ({})\".format(class_names[predicted_label],\n",
        "                                100*np.max(predictions_array),\n",
        "                                class_names[true_label]),\n",
        "                                color=color)\n",
        "\n",
        "def plot_value_array(i, predictions_array, true_label):\n",
        "  predictions_array, true_label = predictions_array[i], true_label[i]\n",
        "  plt.grid(False)\n",
        "  plt.xticks([])\n",
        "  plt.yticks([])\n",
        "  thisplot = plt.bar(range(10), predictions_array, color=\"#777777\")\n",
        "  plt.ylim([0, 1]) \n",
        "  predicted_label = np.argmax(predictions_array)\n",
        "  \n",
        "  thisplot[predicted_label].set_color('red')\n",
        "  thisplot[true_label].set_color('blue')"
      ],
      "execution_count": null,
      "outputs": []
    },
    {
      "cell_type": "markdown",
      "metadata": {
        "id": "d4Ov9OFDMmOD"
      },
      "source": [
        "Let's look at the 0th image, predictions, and prediction array. "
      ]
    },
    {
      "cell_type": "code",
      "metadata": {
        "id": "HV5jw-5HwSmO"
      },
      "source": [
        "i = 0\n",
        "plt.figure(figsize=(6,3))\n",
        "plt.subplot(1,2,1)\n",
        "plot_image(i, predictions, test_labels, test_images)\n",
        "plt.subplot(1,2,2)\n",
        "plot_value_array(i, predictions, test_labels)"
      ],
      "execution_count": null,
      "outputs": []
    },
    {
      "cell_type": "code",
      "metadata": {
        "id": "Ko-uzOufSCSe"
      },
      "source": [
        "i = 12\n",
        "plt.figure(figsize=(6,3))\n",
        "plt.subplot(1,2,1)\n",
        "plot_image(i, predictions, test_labels, test_images)\n",
        "plt.subplot(1,2,2)\n",
        "plot_value_array(i, predictions, test_labels)"
      ],
      "execution_count": null,
      "outputs": []
    },
    {
      "cell_type": "markdown",
      "metadata": {
        "id": "kgdvGD52CaXR"
      },
      "source": [
        "Let's plot several images with their predictions. Correct prediction labels are blue and incorrect prediction labels are red. The number gives the percent (out of 100) for the predicted label. Note that it can be wrong even when very confident. "
      ]
    },
    {
      "cell_type": "code",
      "metadata": {
        "id": "hQlnbqaw2Qu_"
      },
      "source": [
        "# Plot the first X test images, their predicted label, and the true label\n",
        "# Color correct predictions in blue, incorrect predictions in red\n",
        "num_rows = 5\n",
        "num_cols = 3\n",
        "num_images = num_rows*num_cols\n",
        "plt.figure(figsize=(2*2*num_cols, 2*num_rows))\n",
        "for i in range(num_images):\n",
        "  plt.subplot(num_rows, 2*num_cols, 2*i+1)\n",
        "  plot_image(i, predictions, test_labels, test_images)\n",
        "  plt.subplot(num_rows, 2*num_cols, 2*i+2)\n",
        "  plot_value_array(i, predictions, test_labels)\n"
      ],
      "execution_count": null,
      "outputs": []
    },
    {
      "cell_type": "markdown",
      "metadata": {
        "id": "R32zteKHCaXT"
      },
      "source": [
        "Finally, use the trained model to make a prediction about a single image. "
      ]
    },
    {
      "cell_type": "code",
      "metadata": {
        "id": "yRJ7JU7JCaXT"
      },
      "source": [
        "# Grab an image from the test dataset\n",
        "img = test_images[0]\n",
        "\n",
        "print(img.shape)"
      ],
      "execution_count": null,
      "outputs": []
    },
    {
      "cell_type": "markdown",
      "metadata": {
        "id": "vz3bVp21CaXV"
      },
      "source": [
        "`tf.keras` models are optimized to make predictions on a *batch*, or collection, of examples at once. So even though we're using a single image, we need to add it to a list:"
      ]
    },
    {
      "cell_type": "code",
      "metadata": {
        "id": "lDFh5yF_CaXW"
      },
      "source": [
        "# Add the image to a batch where it's the only member.\n",
        "img = np.array([img])\n",
        "\n",
        "print(img.shape)"
      ],
      "execution_count": null,
      "outputs": []
    },
    {
      "cell_type": "markdown",
      "metadata": {
        "id": "EQ5wLTkcCaXY"
      },
      "source": [
        "Now predict the image:"
      ]
    },
    {
      "cell_type": "code",
      "metadata": {
        "id": "o_rzNSdrCaXY"
      },
      "source": [
        "predictions_single = model.predict(img)\n",
        "\n",
        "print(predictions_single)"
      ],
      "execution_count": null,
      "outputs": []
    },
    {
      "cell_type": "code",
      "metadata": {
        "id": "6Ai-cpLjO-3A"
      },
      "source": [
        "plot_value_array(0, predictions_single, test_labels)\n",
        "_ = plt.xticks(range(10), class_names, rotation=45)"
      ],
      "execution_count": null,
      "outputs": []
    },
    {
      "cell_type": "markdown",
      "metadata": {
        "id": "cU1Y2OAMCaXb"
      },
      "source": [
        "`model.predict` returns a list of lists, one for each image in the batch of data. Grab the predictions for our (only) image in the batch:"
      ]
    },
    {
      "cell_type": "code",
      "metadata": {
        "id": "2tRmdq_8CaXb"
      },
      "source": [
        "np.argmax(predictions_single[0])"
      ],
      "execution_count": null,
      "outputs": []
    },
    {
      "cell_type": "markdown",
      "metadata": {
        "id": "YFc2HbEVCaXd"
      },
      "source": [
        "And, as before, the model predicts a label of 6 (shirt)."
      ]
    },
    {
      "cell_type": "markdown",
      "metadata": {
        "id": "-KtnHECKZni_"
      },
      "source": [
        "# Exercises\n",
        "\n",
        "Experiment with different models and see how the accuracy results differ. In particular change the following parameters:\n",
        "*   Set training epochs set to 1\n",
        "*   Number of neurons in the Dense layer following the Flatten one. For example, go really low (e.g. 10) in ranges up to 512 and see how accuracy changes\n",
        "*   Add additional Dense layers between the Flatten and the final `Dense(10)`, experiment with different units in these layers\n",
        "*   Don't normalize the pixel values, and see the effect that has\n",
        "\n",
        "\n",
        "Remember to enable GPU to make everything run faster (Runtime -> Change runtime type -> Hardware accelerator -> GPU).\n",
        "Also, if you run into trouble, simply reset the entire environment and start from the beginning:\n",
        "*   Edit -> Clear all outputs\n",
        "*   Runtime -> Reset all runtimes"
      ]
    }
  ]
}